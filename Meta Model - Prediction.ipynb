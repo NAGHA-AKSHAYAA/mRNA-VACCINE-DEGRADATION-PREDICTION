{
  "cells": [
    {
      "cell_type": "code",
      "execution_count": null,
      "metadata": {
        "colab": {
          "base_uri": "https://localhost:8080/"
        },
        "id": "6Y_GorTOVRkn",
        "outputId": "a462dd08-b380-46fa-9327-0bf77fe61912"
      },
      "outputs": [
        {
          "output_type": "stream",
          "name": "stdout",
          "text": [
            "Looking in indexes: https://pypi.org/simple, https://us-python.pkg.dev/colab-wheels/public/simple/\n",
            "Collecting tensorflow-addons\n",
            "  Downloading tensorflow_addons-0.20.0-cp39-cp39-manylinux_2_17_x86_64.manylinux2014_x86_64.whl (591 kB)\n",
            "\u001b[2K     \u001b[90m━━━━━━━━━━━━━━━━━━━━━━━━━━━━━━━━━━━━━━\u001b[0m \u001b[32m591.0/591.0 kB\u001b[0m \u001b[31m18.1 MB/s\u001b[0m eta \u001b[36m0:00:00\u001b[0m\n",
            "\u001b[?25hRequirement already satisfied: packaging in /usr/local/lib/python3.9/dist-packages (from tensorflow-addons) (23.0)\n",
            "Collecting typeguard<3.0.0,>=2.7\n",
            "  Downloading typeguard-2.13.3-py3-none-any.whl (17 kB)\n",
            "Installing collected packages: typeguard, tensorflow-addons\n",
            "Successfully installed tensorflow-addons-0.20.0 typeguard-2.13.3\n"
          ]
        }
      ],
      "source": [
        "pip install tensorflow-addons"
      ]
    },
    {
      "cell_type": "code",
      "execution_count": null,
      "metadata": {
        "id": "LQxnqOgbVJ2A",
        "colab": {
          "base_uri": "https://localhost:8080/"
        },
        "outputId": "b3dfd2ff-2e79-4c97-84b0-f1f337eb62b8"
      },
      "outputs": [
        {
          "output_type": "stream",
          "name": "stderr",
          "text": [
            "/usr/local/lib/python3.9/dist-packages/tensorflow_addons/utils/tfa_eol_msg.py:23: UserWarning: \n",
            "\n",
            "TensorFlow Addons (TFA) has ended development and introduction of new features.\n",
            "TFA has entered a minimal maintenance and release mode until a planned end of life in May 2024.\n",
            "Please modify downstream libraries to take dependencies from other repositories in our TensorFlow community (e.g. Keras, Keras-CV, and Keras-NLP). \n",
            "\n",
            "For more information see: https://github.com/tensorflow/addons/issues/2807 \n",
            "\n",
            "  warnings.warn(\n"
          ]
        }
      ],
      "source": [
        "import pandas as pd, numpy as np\n",
        "import math, json, gc, random, os, sys\n",
        "from matplotlib import pyplot as plt\n",
        "from tqdm import tqdm\n",
        "\n",
        "#tensorflow deep learning basics\n",
        "import tensorflow as tf\n",
        "import tensorflow_addons as tfa\n",
        "import tensorflow.keras.backend as K\n",
        "import tensorflow.keras.layers as L\n",
        "\n",
        "#for model evaluation\n",
        "from sklearn.model_selection import train_test_split, KFold,  StratifiedKFold"
      ]
    },
    {
      "cell_type": "code",
      "execution_count": null,
      "metadata": {
        "id": "-F8Md6LQUq0T"
      },
      "outputs": [],
      "source": [
        "train = pd.read_json('train.json', lines=True)\n",
        "test = pd.read_json('test.json', lines=True)\n",
        "private_lab = pd.read_csv(\"private_test_labels.csv\")"
      ]
    },
    {
      "cell_type": "code",
      "execution_count": null,
      "metadata": {
        "colab": {
          "base_uri": "https://localhost:8080/"
        },
        "id": "BMidfPw9YilA",
        "outputId": "3b9e3c26-7886-4e10-a15a-392462773913"
      },
      "outputs": [
        {
          "output_type": "execute_result",
          "data": {
            "text/plain": [
              "(2493, 19)"
            ]
          },
          "metadata": {},
          "execution_count": 4
        }
      ],
      "source": [
        "trainn = pd.read_json('train.json', lines=True)\n",
        "trainn.shape\n",
        "private_lab.shape"
      ]
    },
    {
      "cell_type": "code",
      "execution_count": null,
      "metadata": {
        "id": "FAaQ7VwjVdLK"
      },
      "outputs": [],
      "source": [
        "#target columns\n",
        "target_cols = ['reactivity', 'deg_Mg_pH10', 'deg_Mg_50C']\n",
        "target_colss = ['reactivity', 'deg_Mg_pH10', 'deg_pH10', 'deg_Mg_50C', 'deg_50C']"
      ]
    },
    {
      "cell_type": "code",
      "execution_count": null,
      "metadata": {
        "id": "wwPtFZfmVeax"
      },
      "outputs": [],
      "source": [
        "token2int = {x:i for i, x in enumerate('().ACGUBEHIMSX')}\n",
        "\n",
        "def get_pair_index_structure(structure):\n",
        "    structure = np.array([struc for struc in structure], dtype=\"<U4\")\n",
        "\n",
        "    open_index = np.where(structure == \"(\")[0]\n",
        "    closed_index = np.where(structure == \")\")[0]\n",
        "\n",
        "    structure[open_index] = range(0, len(open_index))\n",
        "    structure[closed_index] = range(len(open_index)-1, -1, -1)\n",
        "    structure[structure == \".\"] = -1\n",
        "    structure = structure.astype(int)\n",
        "\n",
        "    pair_structure = np.array([-1]*len(structure))\n",
        "    for i in range(len(open_index)):\n",
        "        start, end = np.where(structure == i)[0]\n",
        "        pair_structure[start] = end\n",
        "        pair_structure[end] = start    \n",
        "        \n",
        "    return pair_structure"
      ]
    },
    {
      "cell_type": "code",
      "execution_count": null,
      "metadata": {
        "id": "tcpujMEuVfAY"
      },
      "outputs": [],
      "source": [
        "def preprocess_inputs(df, cols=['sequence', 'structure', 'predicted_loop_type']):\n",
        "    return np.transpose(\n",
        "        np.array(\n",
        "            df[cols]\n",
        "            .applymap(lambda seq: [token2int[x] for x in seq])\n",
        "            .values\n",
        "            .tolist()\n",
        "        ),\n",
        "        (0, 2, 1)\n",
        "    )\n",
        "\n",
        "train_inputs_all = preprocess_inputs(train)\n",
        "train_labels_all = np.array(train[target_cols].values.tolist()).transpose((0, 2, 1))"
      ]
    },
    {
      "cell_type": "code",
      "execution_count": null,
      "metadata": {
        "id": "9anM-vpoWe5O"
      },
      "outputs": [],
      "source": [
        "# custom loss_fnc\n",
        "def MCRMSE(y_true, y_pred):\n",
        "    colwise_mse = tf.reduce_mean(tf.square(y_true - y_pred), axis=1)\n",
        "    return tf.reduce_mean(tf.sqrt(colwise_mse), axis=1)\n",
        "\n",
        "def gru_layer(hidden_dim, dropout):\n",
        "    return tf.keras.layers.Bidirectional(\n",
        "                                tf.keras.layers.GRU(hidden_dim,\n",
        "                                dropout=dropout,\n",
        "                                return_sequences=True,\n",
        "                                kernel_initializer = 'orthogonal'))\n",
        "\n",
        "def lstm_layer(hidden_dim, dropout):\n",
        "    return tf.keras.layers.Bidirectional(\n",
        "                                tf.keras.layers.LSTM(hidden_dim,\n",
        "                                dropout=dropout,\n",
        "                                return_sequences=True,\n",
        "                                kernel_initializer = 'orthogonal'))\n",
        "\n",
        "def build_model(model_type=1,seq_len=107, pred_len=68, dropout=0.4,\n",
        "                embed_dim=100, hidden_dim=128):\n",
        "    \n",
        "    inputs = tf.keras.layers.Input(shape=(seq_len, 3))\n",
        "\n",
        "    embed = tf.keras.layers.Embedding(input_dim=len(token2int), output_dim=embed_dim)(inputs)\n",
        "    reshaped = tf.reshape(\n",
        "        embed, shape=(-1, embed.shape[1],  embed.shape[2] * embed.shape[3]))\n",
        "    \n",
        "    reshaped = tf.keras.layers.SpatialDropout1D(.2)(reshaped)\n",
        "    \n",
        "    if model_type == 0:\n",
        "        hidden = gru_layer(hidden_dim, dropout)(reshaped)\n",
        "        hidden = gru_layer(hidden_dim, dropout)(hidden)\n",
        "        hidden = gru_layer(hidden_dim, dropout)(hidden)\n",
        "        \n",
        "    elif model_type == 1:\n",
        "        hidden = lstm_layer(hidden_dim, dropout)(reshaped)\n",
        "        hidden = lstm_layer(hidden_dim, dropout)(hidden)\n",
        "        hidden = lstm_layer(hidden_dim, dropout)(hidden)\n",
        "        \n",
        "    elif model_type == 2:\n",
        "        hidden = gru_layer(hidden_dim, dropout)(reshaped)\n",
        "        hidden = lstm_layer(hidden_dim, dropout)(hidden)\n",
        "        hidden = lstm_layer(hidden_dim, dropout)(hidden)\n",
        "        \n",
        "    elif model_type == 3:\n",
        "        hidden = lstm_layer(hidden_dim, dropout)(reshaped)\n",
        "        hidden = gru_layer(hidden_dim, dropout)(hidden)\n",
        "        hidden = gru_layer(hidden_dim, dropout)(hidden)\n",
        "\n",
        "    elif model_type == 4:\n",
        "        hidden = lstm_layer(hidden_dim, dropout)(reshaped)\n",
        "        hidden = gru_layer(hidden_dim, dropout)(hidden)\n",
        "        hidden = lstm_layer(hidden_dim, dropout)(hidden)\n",
        "    \n",
        "    #only making predictions on the first part of each sequence\n",
        "    truncated = hidden[:, :pred_len]\n",
        "\n",
        "    out = tf.keras.layers.Dense(5, activation='linear')(truncated)\n",
        "\n",
        "    model = tf.keras.Model(inputs=inputs, outputs=out)\n",
        "\n",
        "    adam = tf.optimizers.Adam()\n",
        "    model.compile(optimizer=adam, loss=MCRMSE)\n",
        "    \n",
        "    return model"
      ]
    },
    {
      "cell_type": "code",
      "execution_count": null,
      "metadata": {
        "id": "EIFLV7T4UnnB"
      },
      "outputs": [],
      "source": [
        "#test values\n",
        "seq_id = list(private_lab['id'].values)\n",
        "private_df = test.query(\"seq_length == 130\").copy()\n",
        "private_df = private_df.loc[private_df['id'].isin(seq_id)]\n",
        "private_df = private_df.reindex(private_df['id'].map(dict(zip(seq_id, range(len(seq_id))))).sort_values().index)"
      ]
    },
    {
      "cell_type": "code",
      "execution_count": null,
      "metadata": {
        "colab": {
          "base_uri": "https://localhost:8080/"
        },
        "id": "okrR64yfWV-C",
        "outputId": "f82cac40-be19-41c9-f143-ed900bbba1df"
      },
      "outputs": [
        {
          "output_type": "execute_result",
          "data": {
            "text/plain": [
              "(2493, 130, 3)"
            ]
          },
          "metadata": {},
          "execution_count": 10
        }
      ],
      "source": [
        "private_inputs = preprocess_inputs(private_df)\n",
        "private_inputs.shape"
      ]
    },
    {
      "cell_type": "code",
      "execution_count": null,
      "metadata": {
        "id": "ik743f-p1o86"
      },
      "outputs": [],
      "source": [
        "react = np.asarray(private_lab['reactivity'].tolist())\n",
        "mg_ph = np.asarray(private_lab['deg_Mg_pH10'].tolist())\n",
        "mg_50 = np.asarray(private_lab['deg_Mg_50C'].tolist())"
      ]
    },
    {
      "cell_type": "code",
      "execution_count": null,
      "metadata": {
        "id": "KUfpQujO60y5"
      },
      "outputs": [],
      "source": [
        "def procc(a):\n",
        "  aa=[]\n",
        "  for i in a:\n",
        "    am = i.replace(\" \", \"\")\n",
        "    am = am[1:-1].split(',')\n",
        "    am = [float(j) for j in am]\n",
        "    aa.append(am)\n",
        "  return aa\n",
        "mg_ph= procc(mg_ph)\n",
        "react = procc(react)\n",
        "mg_50 = procc(mg_50)"
      ]
    },
    {
      "cell_type": "code",
      "execution_count": null,
      "metadata": {
        "colab": {
          "base_uri": "https://localhost:8080/"
        },
        "id": "msv-3fES4cCK",
        "outputId": "50fa8f10-83bf-4ea1-9ac1-2770751b743b"
      },
      "outputs": [
        {
          "output_type": "execute_result",
          "data": {
            "text/plain": [
              "(2493, 102, 3)"
            ]
          },
          "metadata": {},
          "execution_count": 13
        }
      ],
      "source": [
        "Y_act = np.dstack((react,mg_ph,mg_50))\n",
        "Y_act.shape"
      ]
    },
    {
      "cell_type": "code",
      "execution_count": null,
      "metadata": {
        "id": "2GluAS-eNaH9"
      },
      "outputs": [],
      "source": [
        "import math\n",
        "from sklearn.metrics import mean_squared_error\n",
        "from sklearn.metrics import mean_absolute_error\n",
        "def metrics(con,y_pred):\n",
        "  RMSE = math.sqrt(mean_squared_error(con.reshape(1,-1),y_pred.reshape(1,-1)))\n",
        "  MSE = mean_squared_error(con.reshape(1,-1),y_pred.reshape(1,-1))\n",
        "  MAE = mean_absolute_error(con.reshape(1,-1),y_pred.reshape(1,-1))\n",
        "  return RMSE,MSE,MAE\n",
        "def metrics_p(con,y_pred):\n",
        "  RMSE = math.sqrt(mean_squared_error(con,y_pred))\n",
        "  MSE = mean_squared_error(con,y_pred)\n",
        "  MAE = mean_absolute_error(con,y_pred)\n",
        "  return RMSE,MSE,MAE"
      ]
    },
    {
      "cell_type": "markdown",
      "metadata": {
        "id": "9Rcdtu29P_tG"
      },
      "source": [
        "MODEL 1"
      ]
    },
    {
      "cell_type": "code",
      "execution_count": null,
      "metadata": {
        "colab": {
          "base_uri": "https://localhost:8080/"
        },
        "id": "U_h0sFH0UbOK",
        "outputId": "98578d18-495f-4eb9-809f-fcfd9adff23f"
      },
      "outputs": [
        {
          "output_type": "stream",
          "name": "stdout",
          "text": [
            "78/78 [==============================] - 31s 352ms/step\n"
          ]
        }
      ],
      "source": [
        "model_long = build_model(model_type=0, seq_len=130, pred_len=102)\n",
        "model_long.load_weights('model_1.h5')\n",
        "private_preds = model_long.predict(private_inputs)\n",
        "#y_pred_1=private_preds.transpose((0, 2, 1))\n"
      ]
    },
    {
      "cell_type": "code",
      "execution_count": null,
      "metadata": {
        "colab": {
          "base_uri": "https://localhost:8080/"
        },
        "id": "PmZ9RjD_dLRx",
        "outputId": "df960707-bde6-4973-a1bf-9f3dd4447c55"
      },
      "outputs": [
        {
          "output_type": "stream",
          "name": "stdout",
          "text": [
            "[[[ 5.46530664e-01  7.80686498e-01  6.86655283e-01]\n",
            "  [ 1.47229731e+00  2.16408491e+00  2.48203444e+00]\n",
            "  [ 1.38016868e+00  9.02493060e-01  1.46030700e+00]\n",
            "  ...\n",
            "  [ 2.35394895e-01  1.79715052e-01  8.08080658e-02]\n",
            "  [ 2.09073260e-01  3.44412088e-01  1.37444794e-01]\n",
            "  [ 5.30746698e-01  3.34214032e-01  1.71151966e-01]]\n",
            "\n",
            " [[ 5.27800739e-01  7.51746535e-01  6.76827371e-01]\n",
            "  [ 1.45931017e+00  2.12267876e+00  2.53965354e+00]\n",
            "  [ 1.37361860e+00  8.41801226e-01  1.38248539e+00]\n",
            "  ...\n",
            "  [ 2.01375231e-01  2.18933567e-01  6.36998489e-02]\n",
            "  [ 2.57670730e-01  5.74092746e-01  1.52191475e-01]\n",
            "  [ 1.72275692e-01  3.46156836e-01  1.48285851e-01]]\n",
            "\n",
            " [[ 4.83320385e-01  6.86726153e-01  6.22647107e-01]\n",
            "  [ 1.33059597e+00  1.87175024e+00  2.26334667e+00]\n",
            "  [ 1.29895890e+00  7.50605166e-01  1.31008554e+00]\n",
            "  ...\n",
            "  [ 1.16388202e-01  1.96831360e-01  1.10957865e-02]\n",
            "  [ 1.56922773e-01  2.56162941e-01  2.22161952e-02]\n",
            "  [ 3.88544172e-01  2.94391394e-01  7.94772431e-02]]\n",
            "\n",
            " ...\n",
            "\n",
            " [[ 4.88203019e-01  5.53245366e-01  4.84474331e-01]\n",
            "  [ 1.19006586e+00  1.78902626e+00  1.73725772e+00]\n",
            "  [ 1.15011525e+00  9.05924022e-01  1.18746889e+00]\n",
            "  ...\n",
            "  [ 1.00143671e-01  1.50925711e-01 -4.46209759e-02]\n",
            "  [ 6.93346858e-02  2.99251735e-01  4.91844937e-02]\n",
            "  [ 1.21330634e-01  1.79759800e-01  1.90380160e-02]]\n",
            "\n",
            " [[ 8.76766801e-01  8.19490492e-01  6.13250792e-01]\n",
            "  [ 1.90219927e+00  3.96547270e+00  3.00514674e+00]\n",
            "  [ 1.30103695e+00  6.97661877e-01  1.07385457e+00]\n",
            "  ...\n",
            "  [ 4.14329499e-01  3.01030993e-01  1.39935061e-01]\n",
            "  [ 2.67794430e-01  3.46668601e-01  1.78832427e-01]\n",
            "  [ 1.14156485e+00  1.29101956e+00  7.62224615e-01]]\n",
            "\n",
            " [[ 8.50919366e-01  7.94292152e-01  5.99126875e-01]\n",
            "  [ 1.84915996e+00  4.02341652e+00  3.08500576e+00]\n",
            "  [ 1.20285881e+00  6.51028574e-01  1.03873909e+00]\n",
            "  ...\n",
            "  [ 3.36985707e-01  1.74917027e-01 -4.70465049e-04]\n",
            "  [ 1.16612405e-01  2.60075569e-01  6.36636466e-02]\n",
            "  [ 4.06116337e-01  5.09045899e-01  2.91077495e-01]]]\n"
          ]
        }
      ],
      "source": [
        "y_pred_1 = private_preds[:,:,[0,1,3]]\n",
        "print(y_pred_1)"
      ]
    },
    {
      "cell_type": "markdown",
      "metadata": {
        "id": "6hXEhqfSQ1iT"
      },
      "source": [
        "MODEL 2"
      ]
    },
    {
      "cell_type": "code",
      "execution_count": null,
      "metadata": {
        "colab": {
          "base_uri": "https://localhost:8080/"
        },
        "id": "yDekATIfQ2bS",
        "outputId": "01bb4d20-5a1e-4534-a924-897885cba9c0"
      },
      "outputs": [
        {
          "output_type": "stream",
          "name": "stdout",
          "text": [
            "78/78 [==============================] - 39s 455ms/step\n"
          ]
        }
      ],
      "source": [
        "model_long = build_model(model_type=1, seq_len=130, pred_len=102)\n",
        "model_long.load_weights('model_2.h5')\n",
        "private_preds = model_long.predict(private_inputs)\n",
        "y_pred_2 = private_preds[:,:,[0,1,3]]\n"
      ]
    },
    {
      "cell_type": "code",
      "source": [
        "y_pred_2"
      ],
      "metadata": {
        "colab": {
          "base_uri": "https://localhost:8080/"
        },
        "id": "Od3YYtMy79iN",
        "outputId": "5aa9a659-78bf-4d36-b664-a865b5d48a22"
      },
      "execution_count": null,
      "outputs": [
        {
          "output_type": "execute_result",
          "data": {
            "text/plain": [
              "array([[[0.52701294, 0.58573276, 0.5228815 ],\n",
              "        [1.3493695 , 2.1207805 , 2.4572265 ],\n",
              "        [1.229667  , 0.57599634, 1.1810416 ],\n",
              "        ...,\n",
              "        [1.1325841 , 0.9617695 , 1.3727934 ],\n",
              "        [0.56634355, 1.3136518 , 1.4418216 ],\n",
              "        [0.63912493, 0.787177  , 0.8481913 ]],\n",
              "\n",
              "       [[0.51120126, 0.6296341 , 0.50758684],\n",
              "        [1.1918519 , 2.1052551 , 2.3624935 ],\n",
              "        [1.23613   , 0.7714936 , 1.2528809 ],\n",
              "        ...,\n",
              "        [1.5413116 , 1.2044694 , 0.88798386],\n",
              "        [0.769369  , 2.135904  , 1.7384703 ],\n",
              "        [0.53039306, 1.3737545 , 1.1469059 ]],\n",
              "\n",
              "       [[0.49089018, 0.5819407 , 0.5192341 ],\n",
              "        [1.3449945 , 2.2321172 , 2.6923473 ],\n",
              "        [1.2537909 , 0.5769968 , 1.0803643 ],\n",
              "        ...,\n",
              "        [0.42922992, 0.21464302, 0.09375885],\n",
              "        [0.264464  , 0.44762066, 0.30929443],\n",
              "        [0.43546322, 0.318725  , 0.02832583]],\n",
              "\n",
              "       ...,\n",
              "\n",
              "       [[0.48142698, 0.5762003 , 0.46871984],\n",
              "        [1.0420237 , 1.461058  , 1.3888391 ],\n",
              "        [1.1360555 , 0.88955754, 1.1735982 ],\n",
              "        ...,\n",
              "        [0.39073557, 0.35956272, 0.16160035],\n",
              "        [0.11980604, 0.47826153, 0.3177617 ],\n",
              "        [0.1714086 , 0.30386648, 0.13581602]],\n",
              "\n",
              "       [[0.7898342 , 0.9159234 , 0.65694004],\n",
              "        [1.6416811 , 4.5998745 , 3.3714142 ],\n",
              "        [1.1483225 , 0.5026742 , 0.994134  ],\n",
              "        ...,\n",
              "        [0.19455329, 0.18906154, 0.14969613],\n",
              "        [0.15462787, 0.23703308, 0.19021024],\n",
              "        [1.0196074 , 1.0213016 , 0.6443771 ]],\n",
              "\n",
              "       [[0.8571006 , 0.89791673, 0.63204116],\n",
              "        [1.8461164 , 4.9040318 , 3.5601463 ],\n",
              "        [1.2113686 , 0.6117973 , 1.0521783 ],\n",
              "        ...,\n",
              "        [0.33277684, 0.20051213, 0.12265837],\n",
              "        [0.11653297, 0.26692837, 0.1522865 ],\n",
              "        [0.60445374, 0.58539265, 0.3017767 ]]], dtype=float32)"
            ]
          },
          "metadata": {},
          "execution_count": 18
        }
      ]
    },
    {
      "cell_type": "markdown",
      "metadata": {
        "id": "d4ChzazCQ2o1"
      },
      "source": [
        "MODEL 3"
      ]
    },
    {
      "cell_type": "code",
      "execution_count": null,
      "metadata": {
        "colab": {
          "base_uri": "https://localhost:8080/"
        },
        "id": "bz-8S1_hgwph",
        "outputId": "4308c914-11c4-453e-a0b5-a44bdecac520"
      },
      "outputs": [
        {
          "output_type": "stream",
          "name": "stdout",
          "text": [
            "78/78 [==============================] - 23s 279ms/step\n"
          ]
        }
      ],
      "source": [
        "model_long = build_model(model_type=2, seq_len=130, pred_len=102)\n",
        "model_long.load_weights('model_3.h5')\n",
        "private_preds = model_long.predict(private_inputs)\n",
        "y_pred_3 = private_preds[:,:,[0,1,3]]\n"
      ]
    },
    {
      "cell_type": "markdown",
      "metadata": {
        "id": "fJGC17ozQ6UJ"
      },
      "source": [
        "MODEL 4"
      ]
    },
    {
      "cell_type": "code",
      "execution_count": null,
      "metadata": {
        "colab": {
          "base_uri": "https://localhost:8080/"
        },
        "id": "3nSBxKshQ7Sp",
        "outputId": "e77a528f-1d3b-44c5-b199-173638dbd479"
      },
      "outputs": [
        {
          "output_type": "stream",
          "name": "stdout",
          "text": [
            "78/78 [==============================] - 21s 247ms/step\n"
          ]
        }
      ],
      "source": [
        "model_long = build_model(model_type=3, seq_len=130, pred_len=102)\n",
        "model_long.load_weights('model_4.h5')\n",
        "private_preds = model_long.predict(private_inputs)\n",
        "y_pred_4 = private_preds[:,:,[0,1,3]]"
      ]
    },
    {
      "cell_type": "markdown",
      "metadata": {
        "id": "bcCTbOQEQ7kI"
      },
      "source": [
        "MODEDL 5"
      ]
    },
    {
      "cell_type": "code",
      "execution_count": null,
      "metadata": {
        "colab": {
          "base_uri": "https://localhost:8080/"
        },
        "id": "jWTnsph4Q8YF",
        "outputId": "7a74fd91-78aa-4a94-bda1-e1b6cbb1d800"
      },
      "outputs": [
        {
          "output_type": "stream",
          "name": "stdout",
          "text": [
            "78/78 [==============================] - 23s 270ms/step\n"
          ]
        }
      ],
      "source": [
        "model_long = build_model(model_type=4, seq_len=130, pred_len=102)\n",
        "model_long.load_weights('model_5.h5')\n",
        "private_preds = model_long.predict(private_inputs)\n",
        "#y_pred_5=private_preds.transpose((0, 2, 1))\n",
        "y_pred_5 = private_preds[:,:,[0,1,3]]"
      ]
    },
    {
      "cell_type": "markdown",
      "metadata": {
        "id": "oUi_9IMoSQyO"
      },
      "source": [
        "META MODELLING"
      ]
    },
    {
      "cell_type": "code",
      "execution_count": null,
      "metadata": {
        "id": "tHm3d2ggSvqa"
      },
      "outputs": [],
      "source": [
        "from tensorflow.keras import Model\n",
        "from tensorflow import keras\n",
        "from tensorflow.keras import Sequential\n",
        "from tensorflow.keras.optimizers import Adam\n",
        "from sklearn.preprocessing import StandardScaler\n",
        "from tensorflow.keras.layers import Dense, Dropout\n",
        "from sklearn.model_selection import train_test_split\n",
        "from tensorflow.keras.losses import MeanSquaredLogarithmicError\n",
        "\n",
        "hidden_units1 = 160\n",
        "hidden_units2 = 480\n",
        "hidden_units3 = 256\n",
        "learning_rate = 0.01\n",
        "# Creating model using the Sequential in tensorflow\n",
        "def build_model_using_sequential():\n",
        "  model = Sequential([\n",
        "    Dense(hidden_units1, kernel_initializer='normal', activation='relu'),\n",
        "    Dropout(0.2),\n",
        "    Dense(hidden_units2, kernel_initializer='normal', activation='relu'),\n",
        "    Dropout(0.2),\n",
        "    Dense(hidden_units3, kernel_initializer='normal', activation='relu'),\n",
        "    Dense(1, kernel_initializer='normal', activation='linear')\n",
        "  ]) \n",
        "  return model\n",
        "# build the model\n",
        "\n",
        "model = build_model_using_sequential()\n"
      ]
    },
    {
      "cell_type": "markdown",
      "metadata": {
        "id": "0uE9tn4lQKvk"
      },
      "source": [
        "REACTIVITY"
      ]
    },
    {
      "cell_type": "code",
      "execution_count": null,
      "metadata": {
        "id": "RM182pCha_0r"
      },
      "outputs": [],
      "source": [
        "a = y_pred_1[:,:,0].reshape(-1)\n",
        "b = y_pred_2[:,:,0].reshape(-1)\n",
        "c = y_pred_3[:,:,0].reshape(-1)\n",
        "d = y_pred_4[:,:,0].reshape(-1)\n",
        "e = y_pred_5[:,:,0].reshape(-1)\n",
        "df=pd.DataFrame()\n",
        "df['model_1']=a\n",
        "df['model_2']=b\n",
        "df['model_3']=c\n",
        "df['model_4']=d\n",
        "df['model_5']=e\n",
        "y = Y_act[:,:,0].reshape(-1)"
      ]
    },
    {
      "cell_type": "code",
      "execution_count": null,
      "metadata": {
        "id": "-1fusCZek6e1"
      },
      "outputs": [],
      "source": [
        "X_train, X_test, y_train, y_test = train_test_split(df.values, y, test_size=0.33, random_state=42)"
      ]
    },
    {
      "cell_type": "code",
      "execution_count": null,
      "metadata": {
        "colab": {
          "base_uri": "https://localhost:8080/"
        },
        "id": "ydnTlUF0S4bz",
        "outputId": "bd5b27e9-17f6-40c1-84f6-8df93d16d082"
      },
      "outputs": [
        {
          "output_type": "stream",
          "name": "stdout",
          "text": [
            "Epoch 1/10\n",
            "2130/2130 [==============================] - 13s 6ms/step - loss: 0.0289 - mean_squared_logarithmic_error: 0.0289 - val_loss: 0.0289 - val_mean_squared_logarithmic_error: 0.0289\n",
            "Epoch 2/10\n",
            "2130/2130 [==============================] - 12s 6ms/step - loss: 0.0283 - mean_squared_logarithmic_error: 0.0283 - val_loss: 0.0268 - val_mean_squared_logarithmic_error: 0.0268\n",
            "Epoch 3/10\n",
            "2130/2130 [==============================] - 12s 6ms/step - loss: 0.0281 - mean_squared_logarithmic_error: 0.0281 - val_loss: 0.0269 - val_mean_squared_logarithmic_error: 0.0269\n",
            "Epoch 4/10\n",
            "2130/2130 [==============================] - 12s 6ms/step - loss: 0.0280 - mean_squared_logarithmic_error: 0.0280 - val_loss: 0.0272 - val_mean_squared_logarithmic_error: 0.0272\n",
            "Epoch 5/10\n",
            "2130/2130 [==============================] - 11s 5ms/step - loss: 0.0280 - mean_squared_logarithmic_error: 0.0280 - val_loss: 0.0266 - val_mean_squared_logarithmic_error: 0.0266\n",
            "Epoch 6/10\n",
            "2130/2130 [==============================] - 12s 5ms/step - loss: 0.0279 - mean_squared_logarithmic_error: 0.0279 - val_loss: 0.0272 - val_mean_squared_logarithmic_error: 0.0272\n",
            "Epoch 7/10\n",
            "2130/2130 [==============================] - 12s 6ms/step - loss: 0.0278 - mean_squared_logarithmic_error: 0.0278 - val_loss: 0.0264 - val_mean_squared_logarithmic_error: 0.0264\n",
            "Epoch 8/10\n",
            "2130/2130 [==============================] - 12s 6ms/step - loss: 0.0278 - mean_squared_logarithmic_error: 0.0278 - val_loss: 0.0265 - val_mean_squared_logarithmic_error: 0.0265\n",
            "Epoch 9/10\n",
            "2130/2130 [==============================] - 11s 5ms/step - loss: 0.0278 - mean_squared_logarithmic_error: 0.0278 - val_loss: 0.0282 - val_mean_squared_logarithmic_error: 0.0282\n",
            "Epoch 10/10\n",
            "2130/2130 [==============================] - 12s 6ms/step - loss: 0.0279 - mean_squared_logarithmic_error: 0.0279 - val_loss: 0.0266 - val_mean_squared_logarithmic_error: 0.0266\n"
          ]
        }
      ],
      "source": [
        "# loss function\n",
        "msle = MeanSquaredLogarithmicError()\n",
        "model.compile(\n",
        "    loss=msle, \n",
        "    optimizer=Adam(learning_rate=learning_rate), \n",
        "    metrics=[msle]\n",
        ")\n",
        "# train the model\n",
        "cp_callback = tf.keras.callbacks.ModelCheckpoint('meta_weights.h5')\n",
        "history = model.fit(\n",
        "    X_train, \n",
        "    y_train, \n",
        "    epochs=10, \n",
        "    batch_size=64,\n",
        "    validation_split=0.2\n",
        ")"
      ]
    },
    {
      "cell_type": "code",
      "execution_count": null,
      "metadata": {
        "id": "XspuHOWea_8M",
        "colab": {
          "base_uri": "https://localhost:8080/"
        },
        "outputId": "801f27fd-0d5e-474b-aa87-cdf1dfb2b2cd"
      },
      "outputs": [
        {
          "output_type": "stream",
          "name": "stdout",
          "text": [
            "2623/2623 [==============================] - 4s 2ms/step\n"
          ]
        }
      ],
      "source": [
        "Y_pred = model.predict(X_test)"
      ]
    },
    {
      "cell_type": "code",
      "execution_count": null,
      "metadata": {
        "id": "EwlCAjePhHRw",
        "colab": {
          "base_uri": "https://localhost:8080/"
        },
        "outputId": "8b4ee124-fa94-431f-9238-e748247c46ad"
      },
      "outputs": [
        {
          "output_type": "stream",
          "name": "stdout",
          "text": [
            "0.29258371943588696 0.08560523287893783 0.1782156749415098\n"
          ]
        }
      ],
      "source": [
        "RMSE,MSE,MAE = metrics_p(Y_pred,y_test)\n",
        "print(RMSE,MSE,MAE)"
      ]
    },
    {
      "cell_type": "markdown",
      "metadata": {
        "id": "zmF-N9tVQVfy"
      },
      "source": [
        "\n",
        "deg_Mg_50C\n"
      ]
    },
    {
      "cell_type": "code",
      "execution_count": null,
      "metadata": {
        "id": "JFnutNz8QbB0"
      },
      "outputs": [],
      "source": [
        "a = y_pred_1[:,:,2].reshape(-1)\n",
        "b = y_pred_2[:,:,2].reshape(-1)\n",
        "c = y_pred_3[:,:,2].reshape(-1)\n",
        "d = y_pred_4[:,:,2].reshape(-1)\n",
        "e = y_pred_5[:,:,2].reshape(-1)\n",
        "df=pd.DataFrame()\n",
        "df['model_1']=a\n",
        "df['model_2']=b\n",
        "df['model_3']=c\n",
        "df['model_4']=d\n",
        "df['model_5']=e\n",
        "y = Y_act[:,:,2].reshape(-1)"
      ]
    },
    {
      "cell_type": "code",
      "execution_count": null,
      "metadata": {
        "id": "uFJR0LQ8U4vT"
      },
      "outputs": [],
      "source": [
        "X_train, X_test, y_train, y_test = train_test_split(df.values, y, test_size=0.33, random_state=42)"
      ]
    },
    {
      "cell_type": "code",
      "execution_count": null,
      "metadata": {
        "id": "6ZB4Cz4RU91f",
        "colab": {
          "base_uri": "https://localhost:8080/"
        },
        "outputId": "b893bfcd-852f-4607-9c44-8ac256a289e9"
      },
      "outputs": [
        {
          "output_type": "stream",
          "name": "stdout",
          "text": [
            "Epoch 1/10\n",
            "2130/2130 [==============================] - 14s 6ms/step - loss: 0.0331 - mean_squared_logarithmic_error: 0.0331 - val_loss: 0.0377 - val_mean_squared_logarithmic_error: 0.0377\n",
            "Epoch 2/10\n",
            "2130/2130 [==============================] - 13s 6ms/step - loss: 0.0332 - mean_squared_logarithmic_error: 0.0332 - val_loss: 0.0407 - val_mean_squared_logarithmic_error: 0.0407\n",
            "Epoch 3/10\n",
            "2130/2130 [==============================] - 12s 6ms/step - loss: 0.0332 - mean_squared_logarithmic_error: 0.0332 - val_loss: 0.0379 - val_mean_squared_logarithmic_error: 0.0379\n",
            "Epoch 4/10\n",
            "2130/2130 [==============================] - 13s 6ms/step - loss: 0.0331 - mean_squared_logarithmic_error: 0.0331 - val_loss: 0.0398 - val_mean_squared_logarithmic_error: 0.0398\n",
            "Epoch 5/10\n",
            "2130/2130 [==============================] - 13s 6ms/step - loss: 0.0329 - mean_squared_logarithmic_error: 0.0329 - val_loss: 0.0377 - val_mean_squared_logarithmic_error: 0.0377\n",
            "Epoch 6/10\n",
            "2130/2130 [==============================] - 13s 6ms/step - loss: 0.0327 - mean_squared_logarithmic_error: 0.0327 - val_loss: 0.0419 - val_mean_squared_logarithmic_error: 0.0418\n",
            "Epoch 7/10\n",
            "2130/2130 [==============================] - 13s 6ms/step - loss: 0.0328 - mean_squared_logarithmic_error: 0.0328 - val_loss: 0.0388 - val_mean_squared_logarithmic_error: 0.0388\n",
            "Epoch 8/10\n",
            "2130/2130 [==============================] - 12s 6ms/step - loss: 0.0327 - mean_squared_logarithmic_error: 0.0327 - val_loss: 0.0389 - val_mean_squared_logarithmic_error: 0.0389\n",
            "Epoch 9/10\n",
            "2130/2130 [==============================] - 13s 6ms/step - loss: 0.0326 - mean_squared_logarithmic_error: 0.0326 - val_loss: 0.0384 - val_mean_squared_logarithmic_error: 0.0384\n",
            "Epoch 10/10\n",
            "2130/2130 [==============================] - 12s 6ms/step - loss: 0.0326 - mean_squared_logarithmic_error: 0.0326 - val_loss: 0.0410 - val_mean_squared_logarithmic_error: 0.0410\n"
          ]
        }
      ],
      "source": [
        "# loss function\n",
        "msle = MeanSquaredLogarithmicError()\n",
        "model.compile(\n",
        "    loss=msle, \n",
        "    optimizer=Adam(learning_rate=0.003), \n",
        "    metrics=[msle]\n",
        ")\n",
        "# train the model\n",
        "cp_callback = tf.keras.callbacks.ModelCheckpoint('meta_weights.h5')\n",
        "history = model.fit(\n",
        "    X_train, \n",
        "    y_train, \n",
        "    epochs=10, \n",
        "    batch_size=64,\n",
        "    validation_split=0.2\n",
        ")"
      ]
    },
    {
      "cell_type": "code",
      "execution_count": null,
      "metadata": {
        "id": "sWSnE2mVhNEx",
        "colab": {
          "base_uri": "https://localhost:8080/"
        },
        "outputId": "5c3b708b-a570-47da-8b04-c9ddb8953292"
      },
      "outputs": [
        {
          "output_type": "stream",
          "name": "stdout",
          "text": [
            "2623/2623 [==============================] - 5s 2ms/step\n"
          ]
        }
      ],
      "source": [
        "Y_pred = model.predict(X_test)"
      ]
    },
    {
      "cell_type": "code",
      "execution_count": null,
      "metadata": {
        "id": "cMLMI4tCVBRb",
        "colab": {
          "base_uri": "https://localhost:8080/"
        },
        "outputId": "d506bf13-8181-492e-8263-07e4b9fac4dc"
      },
      "outputs": [
        {
          "output_type": "stream",
          "name": "stdout",
          "text": [
            "0.3885818653019586 0.1509958660415495 0.2261105350023508\n"
          ]
        }
      ],
      "source": [
        "RMSE,MSE,MAE = metrics_p(Y_pred,y_test)\n",
        "print(RMSE,MSE,MAE)"
      ]
    },
    {
      "cell_type": "markdown",
      "metadata": {
        "id": "5_amTdbpQZg5"
      },
      "source": [
        "deg_Mg_pH10"
      ]
    },
    {
      "cell_type": "code",
      "execution_count": null,
      "metadata": {
        "id": "4RuoUILeV7t3"
      },
      "outputs": [],
      "source": [
        "a = y_pred_1[:,:,1].reshape(-1)\n",
        "b = y_pred_2[:,:,1].reshape(-1)\n",
        "c = y_pred_3[:,:,1].reshape(-1)\n",
        "d = y_pred_4[:,:,1].reshape(-1)\n",
        "e = y_pred_5[:,:,1].reshape(-1)\n",
        "df=pd.DataFrame()\n",
        "df['model_1']=a\n",
        "df['model_2']=b\n",
        "df['model_3']=c\n",
        "df['model_4']=d\n",
        "df['model_5']=e\n",
        "y = Y_act[:,:,1].reshape(-1)"
      ]
    },
    {
      "cell_type": "code",
      "execution_count": null,
      "metadata": {
        "id": "ueKW17HsV-MF"
      },
      "outputs": [],
      "source": [
        "X_train, X_test, y_train, y_test = train_test_split(df.values, y, test_size=0.33, random_state=42)"
      ]
    },
    {
      "cell_type": "code",
      "execution_count": null,
      "metadata": {
        "id": "pUQ_5453WADt",
        "colab": {
          "base_uri": "https://localhost:8080/"
        },
        "outputId": "2682516e-bac8-40c7-8ada-b5ef094203d8"
      },
      "outputs": [
        {
          "output_type": "stream",
          "name": "stdout",
          "text": [
            "Epoch 1/10\n",
            "2130/2130 [==============================] - 13s 6ms/step - loss: 0.2455 - mean_squared_error: 0.2455 - val_loss: 0.2341 - val_mean_squared_error: 0.2339\n",
            "Epoch 2/10\n",
            "2130/2130 [==============================] - 12s 6ms/step - loss: 0.2458 - mean_squared_error: 0.2458 - val_loss: 0.2347 - val_mean_squared_error: 0.2345\n",
            "Epoch 3/10\n",
            "2130/2130 [==============================] - 12s 6ms/step - loss: 0.2453 - mean_squared_error: 0.2453 - val_loss: 0.2346 - val_mean_squared_error: 0.2344\n",
            "Epoch 4/10\n",
            "2130/2130 [==============================] - 12s 6ms/step - loss: 0.2458 - mean_squared_error: 0.2458 - val_loss: 0.2328 - val_mean_squared_error: 0.2326\n",
            "Epoch 5/10\n",
            "2130/2130 [==============================] - 12s 6ms/step - loss: 0.2460 - mean_squared_error: 0.2460 - val_loss: 0.2321 - val_mean_squared_error: 0.2320\n",
            "Epoch 6/10\n",
            "2130/2130 [==============================] - 12s 6ms/step - loss: 0.2448 - mean_squared_error: 0.2448 - val_loss: 0.2336 - val_mean_squared_error: 0.2334\n",
            "Epoch 7/10\n",
            "2130/2130 [==============================] - 12s 6ms/step - loss: 0.2446 - mean_squared_error: 0.2446 - val_loss: 0.2326 - val_mean_squared_error: 0.2324\n",
            "Epoch 8/10\n",
            "2130/2130 [==============================] - 12s 6ms/step - loss: 0.2456 - mean_squared_error: 0.2456 - val_loss: 0.2359 - val_mean_squared_error: 0.2357\n",
            "Epoch 9/10\n",
            "2130/2130 [==============================] - 12s 6ms/step - loss: 0.2449 - mean_squared_error: 0.2448 - val_loss: 0.2315 - val_mean_squared_error: 0.2313\n",
            "Epoch 10/10\n",
            "2130/2130 [==============================] - 12s 6ms/step - loss: 0.2441 - mean_squared_error: 0.2441 - val_loss: 0.2325 - val_mean_squared_error: 0.2323\n"
          ]
        }
      ],
      "source": [
        "# loss function\n",
        "msle = MeanSquaredError()\n",
        "model.compile(\n",
        "    loss=msle, \n",
        "    optimizer=Adam(learning_rate=0.0005), \n",
        "    metrics=[msle]\n",
        ")\n",
        "# train the model\n",
        "cp_callback = tf.keras.callbacks.ModelCheckpoint('meta_weights.h5')\n",
        "history = model.fit(\n",
        "    X_train, \n",
        "    y_train, \n",
        "    epochs=10, \n",
        "    batch_size=64,\n",
        "    validation_split=0.2\n",
        ")"
      ]
    },
    {
      "cell_type": "code",
      "execution_count": null,
      "metadata": {
        "id": "ZrSnEbUOhPBV",
        "colab": {
          "base_uri": "https://localhost:8080/"
        },
        "outputId": "ca13e393-968d-49d3-db4d-c9608bdb6061"
      },
      "outputs": [
        {
          "output_type": "stream",
          "name": "stdout",
          "text": [
            "2623/2623 [==============================] - 6s 2ms/step\n"
          ]
        }
      ],
      "source": [
        "Y_pred = model.predict(X_test)"
      ]
    },
    {
      "cell_type": "code",
      "execution_count": null,
      "metadata": {
        "id": "xm6GKziwWCDL",
        "colab": {
          "base_uri": "https://localhost:8080/"
        },
        "outputId": "00f759ff-b2fa-4824-c2d0-3a8b8309714c"
      },
      "outputs": [
        {
          "output_type": "stream",
          "name": "stdout",
          "text": [
            "0.4851018286969444 0.23532378420511957 0.2718517671518934\n"
          ]
        }
      ],
      "source": [
        "RMSE,MSE,MAE = metrics_p(Y_pred,y_test)\n",
        "print(RMSE,MSE,MAE)"
      ]
    },
    {
      "cell_type": "code",
      "execution_count": null,
      "metadata": {
        "id": "jZD4jalPXLAN"
      },
      "outputs": [],
      "source": [
        "def plot_history(history, key):\n",
        "  plt.plot(history.history[key])\n",
        "  plt.plot(history.history['val_'+key])\n",
        "  plt.xlabel(\"Epochs\")\n",
        "  plt.ylabel(key)\n",
        "  plt.legend([key, 'val_'+key])\n",
        "  plt.show()\n",
        "# Plot the history\n",
        "plot_history(history, 'mean_squared_error')"
      ]
    }
  ],
  "metadata": {
    "colab": {
      "provenance": []
    },
    "kernelspec": {
      "display_name": "Python 3",
      "name": "python3"
    },
    "language_info": {
      "name": "python"
    }
  },
  "nbformat": 4,
  "nbformat_minor": 0
}